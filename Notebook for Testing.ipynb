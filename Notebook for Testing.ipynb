{
 "cells": [
  {
   "cell_type": "markdown",
   "id": "1070d8f9",
   "metadata": {},
   "source": [
    "# Getting prices from Target"
   ]
  },
  {
   "cell_type": "code",
   "execution_count": 61,
   "id": "5d5e77d1",
   "metadata": {},
   "outputs": [
    {
     "data": {
      "text/plain": [
       "True"
      ]
     },
     "execution_count": 61,
     "metadata": {},
     "output_type": "execute_result"
    }
   ],
   "source": [
    "import numpy as np\n",
    "import os\n",
    "import time\n",
    "\n",
    "from dotenv import load_dotenv\n",
    "from selenium.webdriver import Firefox\n",
    "from selenium.webdriver.firefox.service import Service\n",
    "from selenium.webdriver.firefox.options import Options\n",
    "\n",
    "from selenium.webdriver.common.keys import Keys\n",
    "\n",
    "load_dotenv()"
   ]
  },
  {
   "cell_type": "code",
   "execution_count": 16,
   "id": "063b4c50",
   "metadata": {
    "collapsed": true
   },
   "outputs": [
    {
     "name": "stderr",
     "output_type": "stream",
     "text": [
      "[WDM] - Downloading: 100%|████████████████████████████████████████████████████████| 1.59M/1.59M [00:00<00:00, 35.4MB/s]\n",
      "C:\\Users\\Ari\\AppData\\Local\\Temp\\ipykernel_4716\\4079113291.py:2: DeprecationWarning: firefox_profile has been deprecated, please pass in an Options object\n",
      "  browser = webdriver.Firefox(GeckoDriverManager().install())\n"
     ]
    },
    {
     "ename": "NotADirectoryError",
     "evalue": "[WinError 267] The directory name is invalid: 'C:\\\\Users\\\\Ari\\\\.wdm\\\\drivers\\\\geckodriver\\\\win64\\\\v0.33.0\\\\geckodriver.exe'",
     "output_type": "error",
     "traceback": [
      "\u001b[1;31m---------------------------------------------------------------------------\u001b[0m",
      "\u001b[1;31mNotADirectoryError\u001b[0m                        Traceback (most recent call last)",
      "Cell \u001b[1;32mIn[16], line 2\u001b[0m\n\u001b[0;32m      1\u001b[0m \u001b[38;5;28;01mfrom\u001b[39;00m \u001b[38;5;21;01mwebdriver_manager\u001b[39;00m\u001b[38;5;21;01m.\u001b[39;00m\u001b[38;5;21;01mfirefox\u001b[39;00m \u001b[38;5;28;01mimport\u001b[39;00m GeckoDriverManager\n\u001b[1;32m----> 2\u001b[0m browser \u001b[38;5;241m=\u001b[39m \u001b[43mwebdriver\u001b[49m\u001b[38;5;241;43m.\u001b[39;49m\u001b[43mFirefox\u001b[49m\u001b[43m(\u001b[49m\u001b[43mGeckoDriverManager\u001b[49m\u001b[43m(\u001b[49m\u001b[43m)\u001b[49m\u001b[38;5;241;43m.\u001b[39;49m\u001b[43minstall\u001b[49m\u001b[43m(\u001b[49m\u001b[43m)\u001b[49m\u001b[43m)\u001b[49m\n",
      "File \u001b[1;32m~\\anaconda3\\lib\\site-packages\\selenium\\webdriver\\firefox\\webdriver.py:185\u001b[0m, in \u001b[0;36mWebDriver.__init__\u001b[1;34m(self, firefox_profile, firefox_binary, capabilities, proxy, executable_path, options, service_log_path, service_args, service, desired_capabilities, log_path, keep_alive)\u001b[0m\n\u001b[0;32m    183\u001b[0m \u001b[38;5;28;01mif\u001b[39;00m firefox_profile:\n\u001b[0;32m    184\u001b[0m     \u001b[38;5;28;01mif\u001b[39;00m \u001b[38;5;28misinstance\u001b[39m(firefox_profile, \u001b[38;5;28mstr\u001b[39m):\n\u001b[1;32m--> 185\u001b[0m         firefox_profile \u001b[38;5;241m=\u001b[39m \u001b[43mFirefoxProfile\u001b[49m\u001b[43m(\u001b[49m\u001b[43mfirefox_profile\u001b[49m\u001b[43m)\u001b[49m\n\u001b[0;32m    186\u001b[0m     \u001b[38;5;28mself\u001b[39m\u001b[38;5;241m.\u001b[39mprofile \u001b[38;5;241m=\u001b[39m firefox_profile\n\u001b[0;32m    187\u001b[0m     options\u001b[38;5;241m.\u001b[39mprofile \u001b[38;5;241m=\u001b[39m firefox_profile\n",
      "File \u001b[1;32m~\\anaconda3\\lib\\site-packages\\selenium\\webdriver\\firefox\\firefox_profile.py:73\u001b[0m, in \u001b[0;36mFirefoxProfile.__init__\u001b[1;34m(self, profile_directory)\u001b[0m\n\u001b[0;32m     71\u001b[0m \u001b[38;5;28mself\u001b[39m\u001b[38;5;241m.\u001b[39mtempfolder \u001b[38;5;241m=\u001b[39m tempfile\u001b[38;5;241m.\u001b[39mmkdtemp()\n\u001b[0;32m     72\u001b[0m newprof \u001b[38;5;241m=\u001b[39m os\u001b[38;5;241m.\u001b[39mpath\u001b[38;5;241m.\u001b[39mjoin(\u001b[38;5;28mself\u001b[39m\u001b[38;5;241m.\u001b[39mtempfolder, \u001b[38;5;124m\"\u001b[39m\u001b[38;5;124mwebdriver-py-profilecopy\u001b[39m\u001b[38;5;124m\"\u001b[39m)\n\u001b[1;32m---> 73\u001b[0m \u001b[43mshutil\u001b[49m\u001b[38;5;241;43m.\u001b[39;49m\u001b[43mcopytree\u001b[49m\u001b[43m(\u001b[49m\n\u001b[0;32m     74\u001b[0m \u001b[43m    \u001b[49m\u001b[38;5;28;43mself\u001b[39;49m\u001b[38;5;241;43m.\u001b[39;49m\u001b[43mprofile_dir\u001b[49m\u001b[43m,\u001b[49m\u001b[43m \u001b[49m\u001b[43mnewprof\u001b[49m\u001b[43m,\u001b[49m\u001b[43m \u001b[49m\u001b[43mignore\u001b[49m\u001b[38;5;241;43m=\u001b[39;49m\u001b[43mshutil\u001b[49m\u001b[38;5;241;43m.\u001b[39;49m\u001b[43mignore_patterns\u001b[49m\u001b[43m(\u001b[49m\u001b[38;5;124;43m\"\u001b[39;49m\u001b[38;5;124;43mparent.lock\u001b[39;49m\u001b[38;5;124;43m\"\u001b[39;49m\u001b[43m,\u001b[49m\u001b[43m \u001b[49m\u001b[38;5;124;43m\"\u001b[39;49m\u001b[38;5;124;43mlock\u001b[39;49m\u001b[38;5;124;43m\"\u001b[39;49m\u001b[43m,\u001b[49m\u001b[43m \u001b[49m\u001b[38;5;124;43m\"\u001b[39;49m\u001b[38;5;124;43m.parentlock\u001b[39;49m\u001b[38;5;124;43m\"\u001b[39;49m\u001b[43m)\u001b[49m\n\u001b[0;32m     75\u001b[0m \u001b[43m\u001b[49m\u001b[43m)\u001b[49m\n\u001b[0;32m     76\u001b[0m \u001b[38;5;28mself\u001b[39m\u001b[38;5;241m.\u001b[39mprofile_dir \u001b[38;5;241m=\u001b[39m newprof\n\u001b[0;32m     77\u001b[0m os\u001b[38;5;241m.\u001b[39mchmod(\u001b[38;5;28mself\u001b[39m\u001b[38;5;241m.\u001b[39mprofile_dir, \u001b[38;5;241m0o755\u001b[39m)\n",
      "File \u001b[1;32m~\\anaconda3\\lib\\shutil.py:557\u001b[0m, in \u001b[0;36mcopytree\u001b[1;34m(src, dst, symlinks, ignore, copy_function, ignore_dangling_symlinks, dirs_exist_ok)\u001b[0m\n\u001b[0;32m    518\u001b[0m \u001b[38;5;124;03m\"\"\"Recursively copy a directory tree and return the destination directory.\u001b[39;00m\n\u001b[0;32m    519\u001b[0m \n\u001b[0;32m    520\u001b[0m \u001b[38;5;124;03mIf exception(s) occur, an Error is raised with a list of reasons.\u001b[39;00m\n\u001b[1;32m   (...)\u001b[0m\n\u001b[0;32m    554\u001b[0m \u001b[38;5;124;03m`src` tree.\u001b[39;00m\n\u001b[0;32m    555\u001b[0m \u001b[38;5;124;03m\"\"\"\u001b[39;00m\n\u001b[0;32m    556\u001b[0m sys\u001b[38;5;241m.\u001b[39maudit(\u001b[38;5;124m\"\u001b[39m\u001b[38;5;124mshutil.copytree\u001b[39m\u001b[38;5;124m\"\u001b[39m, src, dst)\n\u001b[1;32m--> 557\u001b[0m \u001b[38;5;28;01mwith\u001b[39;00m \u001b[43mos\u001b[49m\u001b[38;5;241;43m.\u001b[39;49m\u001b[43mscandir\u001b[49m\u001b[43m(\u001b[49m\u001b[43msrc\u001b[49m\u001b[43m)\u001b[49m \u001b[38;5;28;01mas\u001b[39;00m itr:\n\u001b[0;32m    558\u001b[0m     entries \u001b[38;5;241m=\u001b[39m \u001b[38;5;28mlist\u001b[39m(itr)\n\u001b[0;32m    559\u001b[0m \u001b[38;5;28;01mreturn\u001b[39;00m _copytree(entries\u001b[38;5;241m=\u001b[39mentries, src\u001b[38;5;241m=\u001b[39msrc, dst\u001b[38;5;241m=\u001b[39mdst, symlinks\u001b[38;5;241m=\u001b[39msymlinks,\n\u001b[0;32m    560\u001b[0m                  ignore\u001b[38;5;241m=\u001b[39mignore, copy_function\u001b[38;5;241m=\u001b[39mcopy_function,\n\u001b[0;32m    561\u001b[0m                  ignore_dangling_symlinks\u001b[38;5;241m=\u001b[39mignore_dangling_symlinks,\n\u001b[0;32m    562\u001b[0m                  dirs_exist_ok\u001b[38;5;241m=\u001b[39mdirs_exist_ok)\n",
      "\u001b[1;31mNotADirectoryError\u001b[0m: [WinError 267] The directory name is invalid: 'C:\\\\Users\\\\Ari\\\\.wdm\\\\drivers\\\\geckodriver\\\\win64\\\\v0.33.0\\\\geckodriver.exe'"
     ]
    }
   ],
   "source": [
    "from webdriver_manager.firefox import GeckoDriverManager\n",
    "browser = webdriver.Firefox(GeckoDriverManager().install())"
   ]
  },
  {
   "cell_type": "code",
   "execution_count": 25,
   "id": "3d94574d",
   "metadata": {},
   "outputs": [],
   "source": [
    "\n",
    "profile_path = r'C:\\Users\\Ari\\AppData\\Roaming\\Mozilla\\Firefox\\Profiles\\djh9umty.default'\n",
    "options = Options()\n",
    "options.set_preference('profile', profile_path)\n",
    "service = Service(r'C:\\WebDriver\\bin\\geckodriver.exe')\n",
    "\n",
    "driver = Firefox(service=service, options=options)\n",
    "driver.close()"
   ]
  },
  {
   "cell_type": "code",
   "execution_count": 76,
   "id": "e115730e",
   "metadata": {},
   "outputs": [
    {
     "name": "stdout",
     "output_type": "stream",
     "text": [
      "Evanston\n",
      "$2.69 2.69\n"
     ]
    }
   ],
   "source": [
    "# Temporary, these will come from user inputs later\n",
    "zipcode = \"60645\"\n",
    "user_store = \"2613\"\n",
    "\n",
    "# Set up browser instance\n",
    "service = Service(os.environ.get('BROWSER_SERVICE'))\n",
    "browser = Firefox(service=service)\n",
    "browser.get(provolone_url)\n",
    "\n",
    "# Change to store based on user specified zipcode\n",
    "time.sleep(4)\n",
    "store_button = browser.find_element(\"css selector\", \"*[data-test=\\\"@web/StoreName/Button\\\"]\")\n",
    "store_button.click()\n",
    "time.sleep(2)\n",
    "browser.find_element(\"css selector\", \"*[data-test=\\\"@web/StoreLocationSearch/input\\\"]\").click()\n",
    "browser.find_element(\"css selector\", \"*[data-test=\\\"@web/StoreLocationSearch/input\\\"]\").send_keys(zipcode)\n",
    "browser.find_element(\"css selector\", \"*[data-test=\\\"@web/StoreLocationSearch/button\\\"]\").click()\n",
    "stores_list = browser.find_element(\"class name\", \"RadioGroup__RadioGroupWrap-sc-1xx5vc9-1\").find_elements(\"tag name\", \"input\")\n",
    "if store_button.text in stores_list[0].find_element(\"xpath\", \"..\").text:\n",
    "    stores_list[1].click() # sometimes element 0 is the automatically selected store based on the IP address of the server\n",
    "else:\n",
    "    stores_list[0].click()\n",
    "# browser.find_element(\"id\", user_store).click()\n",
    "browser.find_element(\"css selector\", \"*[data-test=\\\"@web/StoreMenu/ShopThisStoreButton\\\"]\").click()\n",
    "print(store_button.text)\n",
    "\n",
    "current_price = browser.find_element(\"css selector\", \"*[data-test=\\\"product-price\\\"]\")\n",
    "print(current_price.text, current_price.text.strip('$'))"
   ]
  },
  {
   "cell_type": "code",
   "execution_count": 88,
   "id": "b01deae3",
   "metadata": {},
   "outputs": [
    {
     "name": "stdout",
     "output_type": "stream",
     "text": [
      "0\n",
      "Columbus Ohio State U\n",
      "$2.49 2.49\n"
     ]
    }
   ],
   "source": [
    "# Temporary, these will come from user inputs later\n",
    "provolone_url = 'https://www.target.com/p/provolone-deli-sliced-cheese-8oz-12-slices-good-38-gather-8482/-/A-54340573#lnk=sametab'\n",
    "zipcode = \"43210\"\n",
    "user_store = \"2613\"\n",
    "\n",
    "# Set up browser instance\n",
    "service = Service(os.environ.get('BROWSER_SERVICE'))\n",
    "browser = Firefox(service=service)\n",
    "browser.get(provolone_url)\n",
    "\n",
    "# Change to closest store based on user specified zipcode\n",
    "time.sleep(4)\n",
    "store_button = browser.find_element(\"css selector\", \"*[data-test=\\\"@web/StoreName/Button\\\"]\")\n",
    "store_button.click()\n",
    "time.sleep(2)\n",
    "browser.find_element(\"css selector\", \"*[data-test=\\\"@web/StoreLocationSearch/input\\\"]\").click()\n",
    "browser.find_element(\"css selector\", \"*[data-test=\\\"@web/StoreLocationSearch/input\\\"]\").send_keys(zipcode)\n",
    "browser.find_element(\"css selector\", \"*[data-test=\\\"@web/StoreLocationSearch/button\\\"]\").click()\n",
    "stores_list = browser.find_element(\"class name\", \"RadioGroup__RadioGroupWrap-sc-1xx5vc9-1\").find_elements(\"class name\", \"styles__TertiaryTextP-sc-ow3ob-3\")\n",
    "distances = []\n",
    "for store in stores_list:\n",
    "    distances.append(float(store.text.strip(' miles')))\n",
    "stores_list[distances.index(np.min(distances))].click()\n",
    "browser.find_element(\"css selector\", \"*[data-test=\\\"@web/StoreMenu/ShopThisStoreButton\\\"]\").click()\n",
    "\n",
    "# Get price of item\n",
    "current_price = browser.find_element(\"css selector\", \"*[data-test=\\\"product-price\\\"]\")\n",
    "\n",
    "# Flag if this is a sale\n",
    "\n",
    "# Flag if there is a promotion\n",
    "\n",
    "print(store_button.text)\n",
    "print(current_price.text, current_price.text.strip('$'))"
   ]
  },
  {
   "cell_type": "code",
   "execution_count": 89,
   "id": "5b9d78b2",
   "metadata": {},
   "outputs": [],
   "source": [
    "browser.close()"
   ]
  },
  {
   "cell_type": "markdown",
   "id": "b8577297",
   "metadata": {},
   "source": [
    "find out if you can spoof IP address in request"
   ]
  },
  {
   "cell_type": "markdown",
   "id": "47f8bde5",
   "metadata": {},
   "source": [
    "## Trying beautifulsoup"
   ]
  },
  {
   "cell_type": "code",
   "execution_count": 45,
   "id": "b39d0be4",
   "metadata": {},
   "outputs": [
    {
     "name": "stdout",
     "output_type": "stream",
     "text": [
      "Collecting bs4\n",
      "  Downloading bs4-0.0.1.tar.gz (1.1 kB)\n",
      "  Preparing metadata (setup.py): started\n",
      "  Preparing metadata (setup.py): finished with status 'done'\n",
      "Requirement already satisfied: beautifulsoup4 in c:\\users\\ari\\anaconda3\\lib\\site-packages (from bs4) (4.11.1)\n",
      "Requirement already satisfied: soupsieve>1.2 in c:\\users\\ari\\anaconda3\\lib\\site-packages (from beautifulsoup4->bs4) (2.3.2.post1)\n",
      "Building wheels for collected packages: bs4\n",
      "  Building wheel for bs4 (setup.py): started\n",
      "  Building wheel for bs4 (setup.py): finished with status 'done'\n",
      "  Created wheel for bs4: filename=bs4-0.0.1-py3-none-any.whl size=1264 sha256=4bc228768e59589453ec07673f226714fa21477116dc9c3877e37db3f816c7c4\n",
      "  Stored in directory: c:\\users\\ari\\appdata\\local\\pip\\cache\\wheels\\e4\\62\\1d\\d4d1bc4f33350ff84227f89b258edb552d604138e3739f5c83\n",
      "Successfully built bs4\n",
      "Installing collected packages: bs4\n",
      "Successfully installed bs4-0.0.1\n",
      "Note: you may need to restart the kernel to use updated packages.\n"
     ]
    }
   ],
   "source": [
    "pip install bs4"
   ]
  },
  {
   "cell_type": "code",
   "execution_count": 55,
   "id": "fd705ea1",
   "metadata": {},
   "outputs": [],
   "source": [
    "import requests\n",
    "from bs4 import BeautifulSoup\n",
    "\n",
    "provolone_url = 'https://www.target.com/p/provolone-deli-sliced-cheese-8oz-12-slices-good-38-gather-8482/-/A-54340573#lnk=sametab'\n",
    "r = requests.get(provolone_url)\n",
    "print(r.text)\n",
    "soup = BeautifulSoup(r.content, 'html.parser')"
   ]
  },
  {
   "cell_type": "code",
   "execution_count": 59,
   "id": "cb6987f1",
   "metadata": {
    "collapsed": true
   },
   "outputs": [
    {
     "name": "stdout",
     "output_type": "stream",
     "text": [
      "<span class=\"styles__IconWrapper-sc-5okyqk-0 eTnqEK\" data-icon-name=\"LogoBullseyeRed\" fill=\"#cc0000\"><div class=\"styles__SvgWrapper-sc-5okyqk-2 futvKe\"><svg focusable=\"false\" height=\"24\" role=\"presentation\" viewbox=\"0 0 24 24\" width=\"24\" xmlns=\"http://www.w3.org/2000/svg\"><path d=\"M12 1c6.074 0 10.999 4.925 10.999 11 0 6.074-4.925 10.999-11 10.999-6.074 0-10.999-4.925-10.999-11C1 5.925 5.925 1 12 1Zm0 18.173a7.174 7.174 0 1 0-.001-14.347 7.174 7.174 0 0 0 0 14.347Zm0-3.653a3.52 3.52 0 1 1 0-7.04 3.52 3.52 0 0 1 0 7.04Z\"></path></svg></div></span>\n",
      "<span class=\"styles__IconWrapper-sc-5okyqk-0 iCqNtW\" data-icon-name=\"NavigationHamburgerFill\" fill=\"#333333\" size=\"24\"><div class=\"styles__SvgWrapper-sc-5okyqk-2 futvKe\"><svg focusable=\"false\" height=\"24\" role=\"presentation\" viewbox=\"0 0 24 24\" width=\"24\" xmlns=\"http://www.w3.org/2000/svg\"><path d=\"M20.5 17v1.5h-17V17h17Zm0-5.75v1.5h-17v-1.5h17Zm0-5.75V7h-17V5.5h17Z\"></path></svg></div></span>\n",
      "<span class=\"styles__IconWrapper-sc-5okyqk-0 kTqlGm styles__RotatingIconNavigationArrowDownFill-sc-srf2ow-2 fhEbzB expander\" data-icon-name=\"NavigationArrowDownFill\" fill=\"#333333\" size=\"12\"><div class=\"styles__SvgWrapper-sc-5okyqk-2 futvKe\"><svg focusable=\"false\" height=\"24\" role=\"presentation\" viewbox=\"0 0 24 24\" width=\"24\" xmlns=\"http://www.w3.org/2000/svg\"><path d=\"m11.735 15.174 7.47-7.47 1.06 1.06-8.53 8.532-8.53-8.531 1.06-1.06z\"></path></svg></div></span>\n",
      "<span class=\"styles__IconWrapper-sc-5okyqk-0 gbyjce\" data-icon-name=\"LogoBullseyeRed\" fill=\"#cc0000\"><div class=\"styles__SvgWrapper-sc-5okyqk-2 futvKe\"><svg focusable=\"false\" height=\"24\" role=\"presentation\" viewbox=\"0 0 24 24\" width=\"24\" xmlns=\"http://www.w3.org/2000/svg\"><path d=\"M12 1c6.074 0 10.999 4.925 10.999 11 0 6.074-4.925 10.999-11 10.999-6.074 0-10.999-4.925-10.999-11C1 5.925 5.925 1 12 1Zm0 18.173a7.174 7.174 0 1 0-.001-14.347 7.174 7.174 0 0 0 0 14.347Zm0-3.653a3.52 3.52 0 1 1 0-7.04 3.52 3.52 0 0 1 0 7.04Z\"></path></svg></div></span>\n",
      "<span class=\"styles__IconWrapper-sc-5okyqk-0 kTqlGm styles__RotatingIconNavigationArrowDownFill-sc-srf2ow-2 fhEbzB expander\" data-icon-name=\"NavigationArrowDownFill\" fill=\"#333333\" size=\"12\"><div class=\"styles__SvgWrapper-sc-5okyqk-2 futvKe\"><svg focusable=\"false\" height=\"24\" role=\"presentation\" viewbox=\"0 0 24 24\" width=\"24\" xmlns=\"http://www.w3.org/2000/svg\"><path d=\"m11.735 15.174 7.47-7.47 1.06 1.06-8.53 8.532-8.53-8.531 1.06-1.06z\"></path></svg></div></span>\n",
      "<span class=\"styles__IconWrapper-sc-5okyqk-0 kTqlGm styles__RotatingIconNavigationArrowDownFill-sc-srf2ow-2 fhEbzB expander\" data-icon-name=\"NavigationArrowDownFill\" fill=\"#333333\" size=\"12\"><div class=\"styles__SvgWrapper-sc-5okyqk-2 futvKe\"><svg focusable=\"false\" height=\"24\" role=\"presentation\" viewbox=\"0 0 24 24\" width=\"24\" xmlns=\"http://www.w3.org/2000/svg\"><path d=\"m11.735 15.174 7.47-7.47 1.06 1.06-8.53 8.532-8.53-8.531 1.06-1.06z\"></path></svg></div></span>\n",
      "<span class=\"styles__SapphireExperimentTextPlaceholder-sc-h05kq6-0 ePVnnk\"></span>\n",
      "<span class=\"styles__IconWrapper-sc-5okyqk-0 kTqlGm styles__RotatingIconNavigationArrowDownFill-sc-srf2ow-2 fhEbzB expander\" data-icon-name=\"NavigationArrowDownFill\" fill=\"#333333\" size=\"12\"><div class=\"styles__SvgWrapper-sc-5okyqk-2 futvKe\"><svg focusable=\"false\" height=\"24\" role=\"presentation\" viewbox=\"0 0 24 24\" width=\"24\" xmlns=\"http://www.w3.org/2000/svg\"><path d=\"m11.735 15.174 7.47-7.47 1.06 1.06-8.53 8.532-8.53-8.531 1.06-1.06z\"></path></svg></div></span>\n",
      "<span aria-atomic=\"true\" aria-live=\"assertive\" class=\"utils__ScreenReaderOnly-sc-1b93ups-0 TZdMr\"></span>\n",
      "<span class=\"styles__IconWrapper-sc-5okyqk-0 kTqlGm expander\" data-icon-name=\"NavigationArrowDownFill\" fill=\"#333333\" size=\"12\"><div class=\"styles__SvgWrapper-sc-5okyqk-2 futvKe\"><svg focusable=\"false\" height=\"24\" role=\"presentation\" viewbox=\"0 0 24 24\" width=\"24\" xmlns=\"http://www.w3.org/2000/svg\"><path d=\"m11.735 15.174 7.47-7.47 1.06 1.06-8.53 8.532-8.53-8.531 1.06-1.06z\"></path></svg></div></span>\n",
      "<span class=\"styles__LinkText-sc-u2k6h-3 kzpXPc h-margin-r-x3\">Sign in</span>\n",
      "<span class=\"h-sr-only\">cart  0 items</span>\n",
      "<span class=\"styles__IconWrapper-sc-5okyqk-0 htRLfi\" data-icon-name=\"CommerceCartLine\" fill=\"#333\" size=\"24\"><div class=\"styles__SvgWrapper-sc-5okyqk-2 futvKe\"><svg focusable=\"false\" height=\"24\" role=\"presentation\" viewbox=\"0 0 24 24\" width=\"24\" xmlns=\"http://www.w3.org/2000/svg\"><path d=\"M5.625 19.25c.77 0 1.375.605 1.375 1.375S6.395 22 5.625 22s-1.375-.605-1.375-1.375.605-1.375 1.375-1.375Zm13 0c.77 0 1.375.605 1.375 1.375S19.395 22 18.625 22s-1.375-.605-1.375-1.375.604-1.375 1.375-1.375ZM1.135 2.212l2.962.543 18.762 2.622-2.29 7.853-13.855.492.368 2.167c.094.558.55.977 1.103 1.034l.13.007H20.25v1.5H8.314a2.75 2.75 0 0 1-2.677-2.12l-.034-.17-.427-2.514L3.36 4.144.865 3.688l.27-1.476Zm3.798 2.175 1.503 7.844 12.996-.462 1.5-5.147-16-2.235Z\"></path></svg></div></span>\n",
      "<span aria-atomic=\"true\" aria-live=\"assertive\" class=\"utils__ScreenReaderOnly-sc-1b93ups-0 TZdMr\"></span>\n",
      "<span class=\"styles__LinkContainer-sc-1cq6bg4-0 iiybAB\"><span><a aria-label=\"Target\" class=\"styles__StyledLink-sc-vpsldm-0 kSbXRQ\" data-test=\"@web/Breadcrumb/BreadcrumbLink\" href=\"/\" itemprop=\"url\"><span aria-hidden=\"true\" itemprop=\"name\">Target</span></a></span><span aria-hidden=\"true\" class=\"h-padding-h-tiny\">/</span></span>\n",
      "<span><a aria-label=\"Target\" class=\"styles__StyledLink-sc-vpsldm-0 kSbXRQ\" data-test=\"@web/Breadcrumb/BreadcrumbLink\" href=\"/\" itemprop=\"url\"><span aria-hidden=\"true\" itemprop=\"name\">Target</span></a></span>\n",
      "<span aria-hidden=\"true\" itemprop=\"name\">Target</span>\n",
      "<span aria-hidden=\"true\" class=\"h-padding-h-tiny\">/</span>\n",
      "<span class=\"styles__LinkContainer-sc-1cq6bg4-0 iiybAB\"><span><a aria-label=\"Grocery\" class=\"styles__StyledLink-sc-vpsldm-0 kSbXRQ\" data-test=\"@web/Breadcrumb/BreadcrumbLink\" href=\"/c/grocery/-/N-5xt1a\" itemprop=\"url\"><span aria-hidden=\"true\" itemprop=\"name\">Grocery</span></a></span><span aria-hidden=\"true\" class=\"h-padding-h-tiny\">/</span></span>\n",
      "<span><a aria-label=\"Grocery\" class=\"styles__StyledLink-sc-vpsldm-0 kSbXRQ\" data-test=\"@web/Breadcrumb/BreadcrumbLink\" href=\"/c/grocery/-/N-5xt1a\" itemprop=\"url\"><span aria-hidden=\"true\" itemprop=\"name\">Grocery</span></a></span>\n",
      "<span aria-hidden=\"true\" itemprop=\"name\">Grocery</span>\n",
      "<span aria-hidden=\"true\" class=\"h-padding-h-tiny\">/</span>\n",
      "<span class=\"styles__LinkContainer-sc-1cq6bg4-0 iiybAB\"><span><a aria-label=\"Dairy\" class=\"styles__StyledLink-sc-vpsldm-0 kSbXRQ\" data-test=\"@web/Breadcrumb/BreadcrumbLink\" href=\"/c/dairy-grocery/-/N-5xszm\" itemprop=\"url\"><span aria-hidden=\"true\" itemprop=\"name\">Dairy</span></a></span><span aria-hidden=\"true\" class=\"h-padding-h-tiny\">/</span></span>\n",
      "<span><a aria-label=\"Dairy\" class=\"styles__StyledLink-sc-vpsldm-0 kSbXRQ\" data-test=\"@web/Breadcrumb/BreadcrumbLink\" href=\"/c/dairy-grocery/-/N-5xszm\" itemprop=\"url\"><span aria-hidden=\"true\" itemprop=\"name\">Dairy</span></a></span>\n",
      "<span aria-hidden=\"true\" itemprop=\"name\">Dairy</span>\n",
      "<span aria-hidden=\"true\" class=\"h-padding-h-tiny\">/</span>\n",
      "<span class=\"styles__LinkContainer-sc-1cq6bg4-0 iiybAB\"><span><a aria-label=\"Cheese\" class=\"styles__StyledLink-sc-vpsldm-0 kSbXRQ\" data-test=\"@web/Breadcrumb/BreadcrumbLink\" href=\"/c/cheese-dairy-grocery/-/N-5xszk\" itemprop=\"url\"><span aria-hidden=\"true\" itemprop=\"name\">Cheese</span></a></span><span aria-hidden=\"true\">‎</span></span>\n",
      "<span><a aria-label=\"Cheese\" class=\"styles__StyledLink-sc-vpsldm-0 kSbXRQ\" data-test=\"@web/Breadcrumb/BreadcrumbLink\" href=\"/c/cheese-dairy-grocery/-/N-5xszk\" itemprop=\"url\"><span aria-hidden=\"true\" itemprop=\"name\">Cheese</span></a></span>\n",
      "<span aria-hidden=\"true\" itemprop=\"name\">Cheese</span>\n",
      "<span aria-hidden=\"true\">‎</span>\n",
      "<span>Shop all <!-- -->Good &amp; Gather</span>\n",
      "<span class=\"styles__VideoPlayIconWrapper-sc-116zpdl-0 bKcvVP\" size=\"35\"><img alt=\"video\" class=\"styles__VideoPlayIconImg-sc-116zpdl-1 bDphQC\" size=\"35\" src=\"data:image/svg+xml;base64,PD94bWwgdmVyc2lvbj0iMS4wIiBlbmNvZGluZz0idXRmLTgiPz48IURPQ1RZUEUgc3ZnIFBVQkxJQyAiLS8vVzNDLy9EVEQgU1ZHIDEuMS8vRU4iICJodHRwOi8vd3d3LnczLm9yZy9HcmFwaGljcy9TVkcvMS4xL0RURC9zdmcxMS5kdGQiPjxzdmcgdmVyc2lvbj0iMS4xIiBpZD0iQXJ0d29yayIgeG1sbnM9Imh0dHA6Ly93d3cudzMub3JnLzIwMDAvc3ZnIiB4bWxuczp4bGluaz0iaHR0cDovL3d3dy53My5vcmcvMTk5OS94bGluayIgeD0iMHB4IiB5PSIwcHgiIHdpZHRoPSIzMS45cHgiIGhlaWdodD0iMzMuNnB4IiB2aWV3Qm94PSItMS41IC0wLjUgMjIuOSAyMy42IiBlbmFibGUtYmFja2dyb3VuZD0ibmV3IDAgMCAyMi45IDIzLjYiIHhtbDpzcGFjZT0icHJlc2VydmUiIGZpbGw9IndoaXRlIiBzdHJva2U9IiM4ODg4ODgiIHN0cm9rZS13aWR0aD0iMC41Ij48cGF0aCBkPSJNMTkuNiwxMC45YzEsMC42LDEsMS41LDAsMkw1LjgsMjFjLTEsMC42LTEuNywwLjEtMS43LTFWMy45YzAtMS4xLDAuOC0xLjUsMS43LTFMMTkuNiwxMC45eiIvPjwvc3ZnPg==\"/></span>\n",
      "<span class=\"styles__VideoPlayIconWrapper-sc-116zpdl-0 bKcvVP\" size=\"35\"><img alt=\"video\" class=\"styles__VideoPlayIconImg-sc-116zpdl-1 bDphQC\" size=\"35\" src=\"data:image/svg+xml;base64,PD94bWwgdmVyc2lvbj0iMS4wIiBlbmNvZGluZz0idXRmLTgiPz48IURPQ1RZUEUgc3ZnIFBVQkxJQyAiLS8vVzNDLy9EVEQgU1ZHIDEuMS8vRU4iICJodHRwOi8vd3d3LnczLm9yZy9HcmFwaGljcy9TVkcvMS4xL0RURC9zdmcxMS5kdGQiPjxzdmcgdmVyc2lvbj0iMS4xIiBpZD0iQXJ0d29yayIgeG1sbnM9Imh0dHA6Ly93d3cudzMub3JnLzIwMDAvc3ZnIiB4bWxuczp4bGluaz0iaHR0cDovL3d3dy53My5vcmcvMTk5OS94bGluayIgeD0iMHB4IiB5PSIwcHgiIHdpZHRoPSIzMS45cHgiIGhlaWdodD0iMzMuNnB4IiB2aWV3Qm94PSItMS41IC0wLjUgMjIuOSAyMy42IiBlbmFibGUtYmFja2dyb3VuZD0ibmV3IDAgMCAyMi45IDIzLjYiIHhtbDpzcGFjZT0icHJlc2VydmUiIGZpbGw9IndoaXRlIiBzdHJva2U9IiM4ODg4ODgiIHN0cm9rZS13aWR0aD0iMC41Ij48cGF0aCBkPSJNMTkuNiwxMC45YzEsMC42LDEsMS41LDAsMkw1LjgsMjFjLTEsMC42LTEuNywwLjEtMS43LTFWMy45YzAtMS4xLDAuOC0xLjUsMS43LTFMMTkuNiwxMC45eiIvPjwvc3ZnPg==\"/></span>\n",
      "<span class=\"styles__VideoPlayIconWrapper-sc-116zpdl-0 jcpyHr\" size=\"25\"><img alt=\"video\" class=\"styles__VideoPlayIconImg-sc-116zpdl-1 ljyiau\" size=\"25\" src=\"data:image/svg+xml;base64,PD94bWwgdmVyc2lvbj0iMS4wIiBlbmNvZGluZz0idXRmLTgiPz48IURPQ1RZUEUgc3ZnIFBVQkxJQyAiLS8vVzNDLy9EVEQgU1ZHIDEuMS8vRU4iICJodHRwOi8vd3d3LnczLm9yZy9HcmFwaGljcy9TVkcvMS4xL0RURC9zdmcxMS5kdGQiPjxzdmcgdmVyc2lvbj0iMS4xIiBpZD0iQXJ0d29yayIgeG1sbnM9Imh0dHA6Ly93d3cudzMub3JnLzIwMDAvc3ZnIiB4bWxuczp4bGluaz0iaHR0cDovL3d3dy53My5vcmcvMTk5OS94bGluayIgeD0iMHB4IiB5PSIwcHgiIHdpZHRoPSIzMS45cHgiIGhlaWdodD0iMzMuNnB4IiB2aWV3Qm94PSItMS41IC0wLjUgMjIuOSAyMy42IiBlbmFibGUtYmFja2dyb3VuZD0ibmV3IDAgMCAyMi45IDIzLjYiIHhtbDpzcGFjZT0icHJlc2VydmUiIGZpbGw9IndoaXRlIiBzdHJva2U9IiM4ODg4ODgiIHN0cm9rZS13aWR0aD0iMC41Ij48cGF0aCBkPSJNMTkuNiwxMC45YzEsMC42LDEsMS41LDAsMkw1LjgsMjFjLTEsMC42LTEuNywwLjEtMS43LTFWMy45YzAtMS4xLDAuOC0xLjUsMS43LTFMMTkuNiwxMC45eiIvPjwvc3ZnPg==\"/></span>\n",
      "<span class=\"styles__VideoPlayIconWrapper-sc-116zpdl-0 jcpyHr\" size=\"25\"><img alt=\"video\" class=\"styles__VideoPlayIconImg-sc-116zpdl-1 ljyiau\" size=\"25\" src=\"data:image/svg+xml;base64,PD94bWwgdmVyc2lvbj0iMS4wIiBlbmNvZGluZz0idXRmLTgiPz48IURPQ1RZUEUgc3ZnIFBVQkxJQyAiLS8vVzNDLy9EVEQgU1ZHIDEuMS8vRU4iICJodHRwOi8vd3d3LnczLm9yZy9HcmFwaGljcy9TVkcvMS4xL0RURC9zdmcxMS5kdGQiPjxzdmcgdmVyc2lvbj0iMS4xIiBpZD0iQXJ0d29yayIgeG1sbnM9Imh0dHA6Ly93d3cudzMub3JnLzIwMDAvc3ZnIiB4bWxuczp4bGluaz0iaHR0cDovL3d3dy53My5vcmcvMTk5OS94bGluayIgeD0iMHB4IiB5PSIwcHgiIHdpZHRoPSIzMS45cHgiIGhlaWdodD0iMzMuNnB4IiB2aWV3Qm94PSItMS41IC0wLjUgMjIuOSAyMy42IiBlbmFibGUtYmFja2dyb3VuZD0ibmV3IDAgMCAyMi45IDIzLjYiIHhtbDpzcGFjZT0icHJlc2VydmUiIGZpbGw9IndoaXRlIiBzdHJva2U9IiM4ODg4ODgiIHN0cm9rZS13aWR0aD0iMC41Ij48cGF0aCBkPSJNMTkuNiwxMC45YzEsMC42LDEsMS41LDAsMkw1LjgsMjFjLTEsMC42LTEuNywwLjEtMS43LTFWMy45YzAtMS4xLDAuOC0xLjUsMS43LTFMMTkuNiwxMC45eiIvPjwvc3ZnPg==\"/></span>\n",
      "<span class=\"styles__IconWrapper-sc-5okyqk-0 iCqNtW\" data-icon-name=\"GeneralHeartOutline\" data-test=\"IconGeneralHeartOutline\" fill=\"#333333\" size=\"24\"><div class=\"styles__SvgWrapper-sc-5okyqk-2 futvKe\"><svg focusable=\"false\" height=\"24\" role=\"presentation\" viewbox=\"0 0 24 24\" width=\"24\" xmlns=\"http://www.w3.org/2000/svg\"><path d=\"M21.281 9.076c-.317 1.427-1.031 2.776-2.142 3.966a108.712 108.712 0 0 1-4.284 4.284c-.872.872-1.824 1.745-2.776 2.618l-.08.08-.079-.08c-.952-.873-1.904-1.746-2.776-2.618a108.137 108.137 0 0 1-4.283-4.284c-1.111-1.19-1.825-2.539-2.142-3.966-.397-1.666.158-2.856.635-3.57.696-1.046 1.903-1.81 3.18-1.895 2.027-.136 3.465 1.45 4.498 2.982.29.43.603.847.9 1.274l.068.099.068-.099c.296-.427.609-.843.9-1.274 1.033-1.531 2.47-3.118 4.497-2.982 1.278.085 2.484.849 3.181 1.895.477.714 1.032 1.904.635 3.57M12 5.004a6.535 6.535 0 0 0-1.476-1.72c-1.207-1.003-3.06-1.661-4.632-1.269-2.46.397-5.553 3.253-4.76 7.298.352 1.799 1.321 3.41 2.539 4.755 1.376 1.52 2.868 2.951 4.363 4.369A203.883 203.883 0 0 0 12 22.1a201.526 201.526 0 0 0 3.966-3.663c1.496-1.418 2.986-2.848 4.362-4.369 1.219-1.345 2.187-2.956 2.54-4.755.793-4.045-2.301-6.9-4.76-7.298-1.571-.392-3.425.266-4.633 1.27A6.532 6.532 0 0 0 12 5.004\"></path></svg></div></span>\n",
      "<span class=\"RatingStars__StyledRatingStars-sc-k7ad82-0 kmUdSi\" data-test=\"ratings\"><span class=\"utils__ScreenReaderOnly-sc-1b93ups-0 TZdMr\">4.7 out of 5 stars with 789 reviews</span><svg class=\"StaticRatingStars__SizedSvg-sc-vhrvcm-1 eeoiQS\" preserveaspectratio=\"xMinYMin meet\" size=\"18\" version=\"1.1\" viewbox=\"0 0 5 50\" xmlns:xlink=\"http://www.w3.org/2000/svg\"><g><polygon class=\"starFill emptyStar\" fill=\"#fff\" points=\"18.3804527 17.5538712 3.57341884 17.5538227 15.5524968 26.0839651 10.9490362 39.9740092 22.9998469 31.3908403 35.0505989 39.9718199 30.4479632 26.0860159 42.4267599 17.5548252 27.6195159 17.5548252 22.9999796 3.61638342\" transform=\"translate(200, 0)\"></polygon><path class=\"starStroke emptyStar\" d=\"M23,0.125 C23.548595,0.125 24.0427295,0.43633439 24.2838822,0.916322114 L24.3620682,1.10394446 L29.1238205,15.4714919 L44.4834654,15.4714919 C45.1040547,15.4669374 45.6559866,15.865131 45.847289,16.4554281 C46.0385914,17.0457252 45.8251153,17.6918966 45.3197896,18.0521171 L32.9094637,26.8906392 L37.659289,41.2205029 C37.8492978,41.8088537 37.6399199,42.4526832 37.1401666,42.8167858 C36.6404132,43.1808884 35.963305,43.1829213 35.4613737,42.8218261 L23,33.9484823 L10.5391034,42.8237342 C10.0368835,43.1855662 9.35893267,43.1835738 8.85884877,42.8187963 C8.35876487,42.4540187 8.14989861,41.8091377 8.34118809,41.2205029 L13.0910134,26.8887312 L0.680210361,18.0511631 C0.174884727,17.6909426 -0.0385914063,17.0447712 0.152710977,16.4544741 C0.34401336,15.864177 0.89594535,15.4659834 1.51653456,15.4705379 L16.8761795,15.4705379 L21.6379318,1.10394446 C21.8345878,0.519032587 22.3828306,0.125 23,0.125 Z M22.9999796,3.61638342 L18.3804527,17.5538712 L3.57341884,17.5538227 L15.5524968,26.0839651 L10.9490362,39.9740092 L22.9998469,31.3908403 L35.0505989,39.9718199 L30.4479632,26.0860159 L42.4267599,17.5548252 L27.6195159,17.5548252 L22.9999796,3.61638342 Z\" fill=\"#888\" transform=\"translate(200, 0)\"></path></g></svg><div class=\"StaticRatingStars__RatingMask-sc-vhrvcm-0 bJnbnB\" data-ref=\"rating-mask\" style=\"width:94%\"><svg class=\"StaticRatingStars__SizedSvg-sc-vhrvcm-1 eeoiQS\" focusable=\"false\" preserveaspectratio=\"xMinYMin meet\" size=\"18\" tabindex=\"-1\" version=\"1.1\" viewbox=\"0 0 5 50\" xmlns:xlink=\"http://www.w3.org/2000/svg\"><g><polygon class=\"starFill\" fill=\"#ffd700\" points=\"18.3804527 17.5538712 3.57341884 17.5538227 15.5524968 26.0839651 10.9490362 39.9740092 22.9998469 31.3908403 35.0505989 39.9718199 30.4479632 26.0860159 42.4267599 17.5548252 27.6195159 17.5548252 22.9999796 3.61638342\"></polygon><path class=\"starStroke\" d=\"M23,0.125 C23.548595,0.125 24.0427295,0.43633439 24.2838822,0.916322114 L24.3620682,1.10394446 L29.1238205,15.4714919 L44.4834654,15.4714919 C45.1040547,15.4669374 45.6559866,15.865131 45.847289,16.4554281 C46.0385914,17.0457252 45.8251153,17.6918966 45.3197896,18.0521171 L32.9094637,26.8906392 L37.659289,41.2205029 C37.8492978,41.8088537 37.6399199,42.4526832 37.1401666,42.8167858 C36.6404132,43.1808884 35.963305,43.1829213 35.4613737,42.8218261 L23,33.9484823 L10.5391034,42.8237342 C10.0368835,43.1855662 9.35893267,43.1835738 8.85884877,42.8187963 C8.35876487,42.4540187 8.14989861,41.8091377 8.34118809,41.2205029 L13.0910134,26.8887312 L0.680210361,18.0511631 C0.174884727,17.6909426 -0.0385914063,17.0447712 0.152710977,16.4544741 C0.34401336,15.864177 0.89594535,15.4659834 1.51653456,15.4705379 L16.8761795,15.4705379 L21.6379318,1.10394446 C21.8345878,0.519032587 22.3828306,0.125 23,0.125 Z M22.9999796,3.61638342 L18.3804527,17.5538712 L3.57341884,17.5538227 L15.5524968,26.0839651 L10.9490362,39.9740092 L22.9998469,31.3908403 L35.0505989,39.9718199 L30.4479632,26.0860159 L42.4267599,17.5548252 L27.6195159,17.5548252 L22.9999796,3.61638342 Z\" fill=\"#ca8600\"></path></g><g><polygon class=\"starFill\" fill=\"#ffd700\" points=\"18.3804527 17.5538712 3.57341884 17.5538227 15.5524968 26.0839651 10.9490362 39.9740092 22.9998469 31.3908403 35.0505989 39.9718199 30.4479632 26.0860159 42.4267599 17.5548252 27.6195159 17.5548252 22.9999796 3.61638342\" transform=\"translate(50, 0)\"></polygon><path class=\"starStroke\" d=\"M23,0.125 C23.548595,0.125 24.0427295,0.43633439 24.2838822,0.916322114 L24.3620682,1.10394446 L29.1238205,15.4714919 L44.4834654,15.4714919 C45.1040547,15.4669374 45.6559866,15.865131 45.847289,16.4554281 C46.0385914,17.0457252 45.8251153,17.6918966 45.3197896,18.0521171 L32.9094637,26.8906392 L37.659289,41.2205029 C37.8492978,41.8088537 37.6399199,42.4526832 37.1401666,42.8167858 C36.6404132,43.1808884 35.963305,43.1829213 35.4613737,42.8218261 L23,33.9484823 L10.5391034,42.8237342 C10.0368835,43.1855662 9.35893267,43.1835738 8.85884877,42.8187963 C8.35876487,42.4540187 8.14989861,41.8091377 8.34118809,41.2205029 L13.0910134,26.8887312 L0.680210361,18.0511631 C0.174884727,17.6909426 -0.0385914063,17.0447712 0.152710977,16.4544741 C0.34401336,15.864177 0.89594535,15.4659834 1.51653456,15.4705379 L16.8761795,15.4705379 L21.6379318,1.10394446 C21.8345878,0.519032587 22.3828306,0.125 23,0.125 Z M22.9999796,3.61638342 L18.3804527,17.5538712 L3.57341884,17.5538227 L15.5524968,26.0839651 L10.9490362,39.9740092 L22.9998469,31.3908403 L35.0505989,39.9718199 L30.4479632,26.0860159 L42.4267599,17.5548252 L27.6195159,17.5548252 L22.9999796,3.61638342 Z\" fill=\"#ca8600\" transform=\"translate(50, 0)\"></path></g><g><polygon class=\"starFill\" fill=\"#ffd700\" points=\"18.3804527 17.5538712 3.57341884 17.5538227 15.5524968 26.0839651 10.9490362 39.9740092 22.9998469 31.3908403 35.0505989 39.9718199 30.4479632 26.0860159 42.4267599 17.5548252 27.6195159 17.5548252 22.9999796 3.61638342\" transform=\"translate(100, 0)\"></polygon><path class=\"starStroke\" d=\"M23,0.125 C23.548595,0.125 24.0427295,0.43633439 24.2838822,0.916322114 L24.3620682,1.10394446 L29.1238205,15.4714919 L44.4834654,15.4714919 C45.1040547,15.4669374 45.6559866,15.865131 45.847289,16.4554281 C46.0385914,17.0457252 45.8251153,17.6918966 45.3197896,18.0521171 L32.9094637,26.8906392 L37.659289,41.2205029 C37.8492978,41.8088537 37.6399199,42.4526832 37.1401666,42.8167858 C36.6404132,43.1808884 35.963305,43.1829213 35.4613737,42.8218261 L23,33.9484823 L10.5391034,42.8237342 C10.0368835,43.1855662 9.35893267,43.1835738 8.85884877,42.8187963 C8.35876487,42.4540187 8.14989861,41.8091377 8.34118809,41.2205029 L13.0910134,26.8887312 L0.680210361,18.0511631 C0.174884727,17.6909426 -0.0385914063,17.0447712 0.152710977,16.4544741 C0.34401336,15.864177 0.89594535,15.4659834 1.51653456,15.4705379 L16.8761795,15.4705379 L21.6379318,1.10394446 C21.8345878,0.519032587 22.3828306,0.125 23,0.125 Z M22.9999796,3.61638342 L18.3804527,17.5538712 L3.57341884,17.5538227 L15.5524968,26.0839651 L10.9490362,39.9740092 L22.9998469,31.3908403 L35.0505989,39.9718199 L30.4479632,26.0860159 L42.4267599,17.5548252 L27.6195159,17.5548252 L22.9999796,3.61638342 Z\" fill=\"#ca8600\" transform=\"translate(100, 0)\"></path></g><g><polygon class=\"starFill\" fill=\"#ffd700\" points=\"18.3804527 17.5538712 3.57341884 17.5538227 15.5524968 26.0839651 10.9490362 39.9740092 22.9998469 31.3908403 35.0505989 39.9718199 30.4479632 26.0860159 42.4267599 17.5548252 27.6195159 17.5548252 22.9999796 3.61638342\" transform=\"translate(150, 0)\"></polygon><path class=\"starStroke\" d=\"M23,0.125 C23.548595,0.125 24.0427295,0.43633439 24.2838822,0.916322114 L24.3620682,1.10394446 L29.1238205,15.4714919 L44.4834654,15.4714919 C45.1040547,15.4669374 45.6559866,15.865131 45.847289,16.4554281 C46.0385914,17.0457252 45.8251153,17.6918966 45.3197896,18.0521171 L32.9094637,26.8906392 L37.659289,41.2205029 C37.8492978,41.8088537 37.6399199,42.4526832 37.1401666,42.8167858 C36.6404132,43.1808884 35.963305,43.1829213 35.4613737,42.8218261 L23,33.9484823 L10.5391034,42.8237342 C10.0368835,43.1855662 9.35893267,43.1835738 8.85884877,42.8187963 C8.35876487,42.4540187 8.14989861,41.8091377 8.34118809,41.2205029 L13.0910134,26.8887312 L0.680210361,18.0511631 C0.174884727,17.6909426 -0.0385914063,17.0447712 0.152710977,16.4544741 C0.34401336,15.864177 0.89594535,15.4659834 1.51653456,15.4705379 L16.8761795,15.4705379 L21.6379318,1.10394446 C21.8345878,0.519032587 22.3828306,0.125 23,0.125 Z M22.9999796,3.61638342 L18.3804527,17.5538712 L3.57341884,17.5538227 L15.5524968,26.0839651 L10.9490362,39.9740092 L22.9998469,31.3908403 L35.0505989,39.9718199 L30.4479632,26.0860159 L42.4267599,17.5548252 L27.6195159,17.5548252 L22.9999796,3.61638342 Z\" fill=\"#ca8600\" transform=\"translate(150, 0)\"></path></g><g><polygon class=\"starFill\" fill=\"#ffd700\" points=\"18.3804527 17.5538712 3.57341884 17.5538227 15.5524968 26.0839651 10.9490362 39.9740092 22.9998469 31.3908403 35.0505989 39.9718199 30.4479632 26.0860159 42.4267599 17.5548252 27.6195159 17.5548252 22.9999796 3.61638342\" transform=\"translate(200, 0)\"></polygon><path class=\"starStroke\" d=\"M23,0.125 C23.548595,0.125 24.0427295,0.43633439 24.2838822,0.916322114 L24.3620682,1.10394446 L29.1238205,15.4714919 L44.4834654,15.4714919 C45.1040547,15.4669374 45.6559866,15.865131 45.847289,16.4554281 C46.0385914,17.0457252 45.8251153,17.6918966 45.3197896,18.0521171 L32.9094637,26.8906392 L37.659289,41.2205029 C37.8492978,41.8088537 37.6399199,42.4526832 37.1401666,42.8167858 C36.6404132,43.1808884 35.963305,43.1829213 35.4613737,42.8218261 L23,33.9484823 L10.5391034,42.8237342 C10.0368835,43.1855662 9.35893267,43.1835738 8.85884877,42.8187963 C8.35876487,42.4540187 8.14989861,41.8091377 8.34118809,41.2205029 L13.0910134,26.8887312 L0.680210361,18.0511631 C0.174884727,17.6909426 -0.0385914063,17.0447712 0.152710977,16.4544741 C0.34401336,15.864177 0.89594535,15.4659834 1.51653456,15.4705379 L16.8761795,15.4705379 L21.6379318,1.10394446 C21.8345878,0.519032587 22.3828306,0.125 23,0.125 Z M22.9999796,3.61638342 L18.3804527,17.5538712 L3.57341884,17.5538227 L15.5524968,26.0839651 L10.9490362,39.9740092 L22.9998469,31.3908403 L35.0505989,39.9718199 L30.4479632,26.0860159 L42.4267599,17.5548252 L27.6195159,17.5548252 L22.9999796,3.61638342 Z\" fill=\"#ca8600\" transform=\"translate(200, 0)\"></path></g></svg></div></span>\n",
      "<span class=\"utils__ScreenReaderOnly-sc-1b93ups-0 TZdMr\">4.7 out of 5 stars with 789 reviews</span>\n",
      "<span class=\"styles__StyledFeedbackCount-sc-1sjg4p-4 elUfSN h-text-md h-margin-l-tiny\"><span aria-hidden=\"true\">789</span></span>\n",
      "<span aria-hidden=\"true\">789</span>\n",
      "<span class=\"h-sr-only\"><span><span aria-hidden=\"true\">789</span></span> <span aria-hidden=\"true\">ratings</span></span>\n",
      "<span><span aria-hidden=\"true\">789</span></span>\n",
      "<span aria-hidden=\"true\">789</span>\n",
      "<span aria-hidden=\"true\">ratings</span>\n",
      "<span class=\"h-margin-l-tiny h-display-flex\"><span class=\"styles__IconWrapper-sc-5okyqk-0 iBvvdq\" data-icon-name=\"NavigationArrowDownFill\" data-test=\"ratingHistogramDropDown\" fill=\"#333333\" size=\"16\"><div class=\"styles__SvgWrapper-sc-5okyqk-2 futvKe\"><svg focusable=\"false\" height=\"24\" role=\"presentation\" viewbox=\"0 0 24 24\" width=\"24\" xmlns=\"http://www.w3.org/2000/svg\"><path d=\"m11.735 15.174 7.47-7.47 1.06 1.06-8.53 8.532-8.53-8.531 1.06-1.06z\"></path></svg></div></span></span>\n",
      "<span class=\"styles__IconWrapper-sc-5okyqk-0 iBvvdq\" data-icon-name=\"NavigationArrowDownFill\" data-test=\"ratingHistogramDropDown\" fill=\"#333333\" size=\"16\"><div class=\"styles__SvgWrapper-sc-5okyqk-2 futvKe\"><svg focusable=\"false\" height=\"24\" role=\"presentation\" viewbox=\"0 0 24 24\" width=\"24\" xmlns=\"http://www.w3.org/2000/svg\"><path d=\"m11.735 15.174 7.47-7.47 1.06 1.06-8.53 8.532-8.53-8.531 1.06-1.06z\"></path></svg></div></span>\n",
      "<span class=\"styles__StyledProductDetailRibbon-sc-16m7340-0 gvrvrS\" data-test=\"exclusive-target-ribbon\">Only at<span class=\"h-sr-only\">  target</span> <span class=\"styles__IconWrapper-sc-5okyqk-0 a-Dkvy\" data-icon-name=\"LogoBullseyeRed\" fill=\"#cc0000\" size=\"16\"><div class=\"styles__SvgWrapper-sc-5okyqk-2 futvKe\"><svg focusable=\"false\" height=\"24\" role=\"presentation\" viewbox=\"0 0 24 24\" width=\"24\" xmlns=\"http://www.w3.org/2000/svg\"><path d=\"M12 1c6.074 0 10.999 4.925 10.999 11 0 6.074-4.925 10.999-11 10.999-6.074 0-10.999-4.925-10.999-11C1 5.925 5.925 1 12 1Zm0 18.173a7.174 7.174 0 1 0-.001-14.347 7.174 7.174 0 0 0 0 14.347Zm0-3.653a3.52 3.52 0 1 1 0-7.04 3.52 3.52 0 0 1 0 7.04Z\"></path></svg></div></span></span>\n",
      "<span class=\"h-sr-only\">  target</span>\n",
      "<span class=\"styles__IconWrapper-sc-5okyqk-0 a-Dkvy\" data-icon-name=\"LogoBullseyeRed\" fill=\"#cc0000\" size=\"16\"><div class=\"styles__SvgWrapper-sc-5okyqk-2 futvKe\"><svg focusable=\"false\" height=\"24\" role=\"presentation\" viewbox=\"0 0 24 24\" width=\"24\" xmlns=\"http://www.w3.org/2000/svg\"><path d=\"M12 1c6.074 0 10.999 4.925 10.999 11 0 6.074-4.925 10.999-11 10.999-6.074 0-10.999-4.925-10.999-11C1 5.925 5.925 1 12 1Zm0 18.173a7.174 7.174 0 1 0-.001-14.347 7.174 7.174 0 0 0 0 14.347Zm0-3.653a3.52 3.52 0 1 1 0-7.04 3.52 3.52 0 0 1 0 7.04Z\"></path></svg></div></span>\n",
      "<span class=\"styles__IconWrapper-sc-5okyqk-0 bbyCMe\" data-icon-name=\"GeneralGiftRegistryRed\" fill=\"#cc0000\" size=\"24\"><div class=\"styles__SvgWrapper-sc-5okyqk-2 futvKe\"><svg focusable=\"false\" height=\"24\" role=\"presentation\" viewbox=\"0 0 24 24\" width=\"24\" xmlns=\"http://www.w3.org/2000/svg\"><path d=\"M21.5 7v3.25h-1V22.5h-17V10.25h-1V7h19Z\" fill=\"#C00\"></path><path d=\"M20.5 10.25v1.25h-17v-1.25h17Zm-7.082-7.739c.694-.772 1.746-1.143 2.739-.969A2.505 2.505 0 0 1 18.086 3.1a2.944 2.944 0 0 1-.17 2.56c-.411.712-1.091 1.184-1.866 1.292-.327.045-.652.043-.935.045L14.829 7h-.159c-.38 0-1.332-.007-2.064-.013-.194 0-.365-.003-.512-.003h-.11c-.155.001-.355.003-.588.003-.793.006-1.848.013-2.15.013h-.074l-.286-.003c-.287 0-.608 0-.933-.044-.777-.109-1.458-.58-1.868-1.293a2.944 2.944 0 0 1-.171-2.56 2.508 2.508 0 0 1 1.93-1.558c.994-.173 2.045.198 2.738.97.439.49.924 1.09 1.418 1.746.494-.656.979-1.256 1.418-1.747Zm2.449.69c-.421-.072-.891.097-1.195.434-.42.467-.883 1.04-1.36 1.673l1.488.007.316-.002c.26.004.492.001.7-.029.257-.035.49-.205.642-.465.186-.325.21-.73.068-1.087a.822.822 0 0 0-.66-.53Zm-7.592-.015-.142.015a.821.821 0 0 0-.658.532c-.145.355-.12.761.068 1.086.089.152.289.416.643.466.208.028.448.028.698.028l.319.002c.084-.002.778-.003 1.485-.007a26.23 26.23 0 0 0-1.36-1.673c-.304-.338-.772-.508-1.195-.434Z\" fill=\"#840000\"></path><path d=\"M12 13.25c1.93 0 3.5 1.57 3.5 3.5s-1.57 3.5-3.5 3.5-3.5-1.57-3.5-3.5 1.57-3.5 3.5-3.5Zm0 1.166-.16.005a2.333 2.333 0 0 0 .16 4.662l.16-.005a2.333 2.333 0 0 0-.16-4.662Zm0 1.167a1.166 1.166 0 1 1 0 2.333 1.166 1.166 0 0 1 0-2.333Z\" fill=\"#FFF\"></path></svg></div></span>\n",
      "<span class=\"h-margin-l-tiny\">Sign in</span>\n",
      "<span class=\"styles__MiscellaneousButtonsSpan-sc-6aebpn-1 fLaUWW h-margin-b-tiny h-margin-t-default\"></span>\n",
      "<span>Not-Smoked Provolone cheese slices are a good source of calcium (See nutrition information for fat and saturated fat content.)</span>\n",
      "<span>Deli-style cheese slices are great to keep on hand for making sandwiches</span>\n",
      "<span>12 slices</span>\n",
      "<span>Net wt 8oz</span>\n",
      "<span class=\"utils__ScreenReaderOnly-sc-1b93ups-0 TZdMr\" role=\"alert\">Loading, please wait...</span>\n",
      "<span class=\"utils__ScreenReaderOnly-sc-1b93ups-0 TZdMr\" role=\"alert\">Loading, please wait...</span>\n",
      "<span class=\"utils__ScreenReaderOnly-sc-1b93ups-0 TZdMr\" role=\"alert\">Loading, please wait...</span>\n",
      "<span class=\"utils__ScreenReaderOnly-sc-1b93ups-0 TZdMr\" role=\"alert\">Loading, please wait...</span>\n",
      "<span aria-atomic=\"true\" aria-live=\"assertive\" class=\"utils__ScreenReaderOnly-sc-1b93ups-0 TZdMr\"></span>\n",
      "<span class=\"styles__ButtonWrapper-sc-82egy0-5 jbfnIv\"><span class=\"styles__ScreenReaderOnlyWrapper-sc-82egy0-4 boKWmt\" role=\"alert\"></span><button class=\"BaseButton-sc-j0jbcc-0 fdaZTm\" data-test=\"button-default\" id=\"submit-button\" type=\"button\"><div class=\"styles__ContentWrapper-sc-82egy0-0\"><div class=\"styles__LabelWrapper-sc-82egy0-1 fIVNnu\">Sign up</div></div></button></span>\n",
      "<span class=\"styles__ScreenReaderOnlyWrapper-sc-82egy0-4 boKWmt\" role=\"alert\"></span>\n"
     ]
    }
   ],
   "source": [
    "buttons = soup.find_all('button')#,{'id':'web-store-id-msg-btn'})\n",
    "for text in buttons:\n",
    "    print(text)"
   ]
  },
  {
   "cell_type": "markdown",
   "id": "348f904e",
   "metadata": {},
   "source": [
    "Not gonna work, unsure why. Oh well."
   ]
  },
  {
   "cell_type": "markdown",
   "id": "53048b2a",
   "metadata": {},
   "source": [
    "# Getting prices from Jewel"
   ]
  },
  {
   "cell_type": "code",
   "execution_count": null,
   "id": "a3d37cbd",
   "metadata": {},
   "outputs": [],
   "source": []
  },
  {
   "cell_type": "markdown",
   "id": "6b74aa81",
   "metadata": {},
   "source": [
    "# Getting prices from Marianos"
   ]
  },
  {
   "cell_type": "code",
   "execution_count": null,
   "id": "c5bf9e4c",
   "metadata": {},
   "outputs": [],
   "source": []
  },
  {
   "cell_type": "markdown",
   "id": "13bb4b2b",
   "metadata": {},
   "source": [
    "Getting prices from Aldi"
   ]
  },
  {
   "cell_type": "code",
   "execution_count": null,
   "id": "95bc8c45",
   "metadata": {},
   "outputs": [],
   "source": []
  }
 ],
 "metadata": {
  "kernelspec": {
   "display_name": "Python 3 (ipykernel)",
   "language": "python",
   "name": "python3"
  },
  "language_info": {
   "codemirror_mode": {
    "name": "ipython",
    "version": 3
   },
   "file_extension": ".py",
   "mimetype": "text/x-python",
   "name": "python",
   "nbconvert_exporter": "python",
   "pygments_lexer": "ipython3",
   "version": "3.10.9"
  }
 },
 "nbformat": 4,
 "nbformat_minor": 5
}
